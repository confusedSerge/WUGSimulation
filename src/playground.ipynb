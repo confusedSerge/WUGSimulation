{
 "metadata": {
  "language_info": {
   "codemirror_mode": {
    "name": "ipython",
    "version": 3
   },
   "file_extension": ".py",
   "mimetype": "text/x-python",
   "name": "python",
   "nbconvert_exporter": "python",
   "pygments_lexer": "ipython3",
   "version": "3.8.9-final"
  },
  "orig_nbformat": 2,
  "kernelspec": {
   "name": "python38964bitvenv1d2f00bb89d541aeba54fea723a50c1f",
   "display_name": "Python 3.8.9 64-bit ('venv')"
  }
 },
 "nbformat": 4,
 "nbformat_minor": 2,
 "cells": [
  {
   "cell_type": "code",
   "execution_count": 1,
   "metadata": {},
   "outputs": [],
   "source": [
    "import numpy as np\n",
    "import seaborn as sns\n",
    "import matplotlib.pyplot as plt\n",
    "import pandas as pd\n",
    "import pickle\n",
    "\n",
    "from collections import Counter\n",
    "\n",
    "from simulation.clustering.clustering_strategy import chinese_whisper_clustering as cw\n",
    "from visualization.graph_visualization import draw_graph_graphviz as draw\n",
    "\n",
    "from simulation.stopping.utils.stopping_utils import pertubate as _pertubate\n",
    "from simulation.stopping.utils.stopping_utils import gen_labels as _gen_labels"
   ]
  },
  {
   "cell_type": "code",
   "execution_count": 2,
   "metadata": {},
   "outputs": [],
   "source": [
    "def gambette(graph, min_sample_size=100, rounds=10, share=0.1):\n",
    "    _range = (1, 4)\n",
    "\n",
    "    for _ in range(rounds):\n",
    "        new_graph = _pertubate(graph, _range, share)\n",
    "        cl = clustering_func(new_graph, clustering_params)\n",
    "        new_graph.update_community_nodes_membership(cl)\n",
    "\n",
    "        draw(new_graph, 'Pertubated Round ', _)\n",
    "\n",
    "        print(ari(_gen_labels(graph), _gen_labels(new_graph)))"
   ]
  },
  {
   "cell_type": "code",
   "execution_count": 3,
   "metadata": {},
   "outputs": [
    {
     "output_type": "error",
     "ename": "NameError",
     "evalue": "name 'pickle' is not defined",
     "traceback": [
      "\u001b[0;31m---------------------------------------------------------------------------\u001b[0m",
      "\u001b[0;31mNameError\u001b[0m                                 Traceback (most recent call last)",
      "\u001b[0;32m<ipython-input-3-d05895ff1e72>\u001b[0m in \u001b[0;36m<module>\u001b[0;34m\u001b[0m\n\u001b[1;32m      2\u001b[0m \u001b[0;34m\u001b[0m\u001b[0m\n\u001b[1;32m      3\u001b[0m \u001b[0;32mwith\u001b[0m \u001b[0mopen\u001b[0m\u001b[0;34m(\u001b[0m\u001b[0mpath\u001b[0m\u001b[0;34m,\u001b[0m \u001b[0;34m'rb'\u001b[0m\u001b[0;34m)\u001b[0m \u001b[0;32mas\u001b[0m \u001b[0mfile\u001b[0m\u001b[0;34m:\u001b[0m\u001b[0;34m\u001b[0m\u001b[0;34m\u001b[0m\u001b[0m\n\u001b[0;32m----> 4\u001b[0;31m     \u001b[0mgraph\u001b[0m \u001b[0;34m=\u001b[0m \u001b[0mpickle\u001b[0m\u001b[0;34m.\u001b[0m\u001b[0mload\u001b[0m\u001b[0;34m(\u001b[0m\u001b[0mfile\u001b[0m\u001b[0;34m)\u001b[0m\u001b[0;34m\u001b[0m\u001b[0;34m\u001b[0m\u001b[0m\n\u001b[0m",
      "\u001b[0;31mNameError\u001b[0m: name 'pickle' is not defined"
     ]
    }
   ],
   "source": [
    "path = '../data/graphs/kw34/sim/merandomwalk/n100_k3_log0.9-0-merandomwalk_cw/n100_k3_log0.9-0-merandomwalk_cw_j500.graph'\n",
    "\n",
    "with open(path, 'rb') as file:\n",
    "    graph = pickle.load(file)"
   ]
  },
  {
   "cell_type": "code",
   "execution_count": 259,
   "metadata": {},
   "outputs": [],
   "source": [
    "# import os\n",
    "# import pickle\n",
    "# from os.path import isfile, join\n",
    "\n",
    "# from graphs.base_graph import BaseGraph\n",
    "# from simulation.clustering.clustering_strategy import connected_components_clustering as cc\n",
    "# from visualization.graph_visualization import draw_graph_graphviz as draw\n",
    "\n",
    "# checkpoints = [50, 500, 5000]\n",
    "# ks = [1, 7, 20]\n",
    "# logs = [0.1, 0.5, 0.9]\n",
    "\n",
    "# from itertools import product\n",
    "# path = '../data/graphs/kw32/sim/randomwalk/n100_k{1}_log{2}-0-randomwalk_lm/n100_k{1}_log{2}-0-randomwalk_lm_j{0}.graph'\n",
    "# # path = '../data/graphs/kw34/sim/merandomwalk/n100_k1_log0.1-0-merandomwalk_cc_nosplit/n100_k1_log0.1-0-merandomwalk_cc_nosplit_j{}.graph'\n",
    "# # paths = [path.format('10'), path.format('20'), path.format('30'), path.format('40'), path.format('50')]\n",
    "# paths = [path.format(*j) for j in product(*[checkpoints, ks, logs])]\n",
    "# # print([j for j in product(*[checkpoints, ks, logs])])\n",
    "\n",
    "# graphs = []\n",
    "# for path in paths:\n",
    "#     try:\n",
    "#         with open(path, 'rb') as file:\n",
    "#             graphs.append(pickle.load(file))\n",
    "#     except FileNotFoundError:\n",
    "#         pass\n",
    "\n",
    "# for i, graph in enumerate(graphs):\n",
    "#     draw(graph, paths[i].split('/')[-1], save_flag=True, path='../data/figs/kw34/result_clustering/lm/{}.png'.format(paths[i].split('/')[-1]))"
   ]
  }
 ]
}